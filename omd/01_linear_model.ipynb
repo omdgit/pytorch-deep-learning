{
 "cells": [
  {
   "cell_type": "code",
   "execution_count": 1,
   "metadata": {},
   "outputs": [],
   "source": [
    "import numpy as np\n",
    "import torch\n",
    "import torch.nn as nn \n",
    "from matplotlib import pyplot as plt, ticker as mticker"
   ]
  },
  {
   "cell_type": "code",
   "execution_count": 2,
   "metadata": {},
   "outputs": [
    {
     "data": {
      "text/plain": [
       "(40, 40, 10, 10)"
      ]
     },
     "execution_count": 2,
     "metadata": {},
     "output_type": "execute_result"
    }
   ],
   "source": [
    "# create the data\n",
    "# split the data\n",
    "SEED = 42\n",
    "weight = 0.7\n",
    "bias = 0.3\n",
    "torch.manual_seed(SEED)\n",
    "\n",
    "X = torch.arange(0,1, 0.02, dtype=torch.float).unsqueeze(dim=1)\n",
    "y = weight * X + bias\n",
    "\n",
    "split_train = int(0.8 * len(X))\n",
    "X_train, y_train, X_test, y_test = X[:split_train], y[:split_train], X[split_train:], y[split_train:]\n",
    "len(X_train), len(y_train), len(X_test), len(y_test)\n"
   ]
  },
  {
   "cell_type": "code",
   "execution_count": 3,
   "metadata": {},
   "outputs": [
    {
     "data": {
      "text/plain": [
       "(torch.float32, torch.float32)"
      ]
     },
     "execution_count": 3,
     "metadata": {},
     "output_type": "execute_result"
    }
   ],
   "source": [
    "X.dtype, y.dtype"
   ]
  },
  {
   "cell_type": "code",
   "execution_count": 4,
   "metadata": {},
   "outputs": [
    {
     "data": {
      "text/plain": [
       "(tensor([[0.0000],\n",
       "         [0.0200],\n",
       "         [0.0400],\n",
       "         [0.0600],\n",
       "         [0.0800],\n",
       "         [0.1000],\n",
       "         [0.1200],\n",
       "         [0.1400],\n",
       "         [0.1600],\n",
       "         [0.1800]]),\n",
       " tensor([[0.3000],\n",
       "         [0.3140],\n",
       "         [0.3280],\n",
       "         [0.3420],\n",
       "         [0.3560],\n",
       "         [0.3700],\n",
       "         [0.3840],\n",
       "         [0.3980],\n",
       "         [0.4120],\n",
       "         [0.4260]]))"
      ]
     },
     "execution_count": 4,
     "metadata": {},
     "output_type": "execute_result"
    }
   ],
   "source": [
    "X[:10], y[:10]"
   ]
  },
  {
   "cell_type": "code",
   "execution_count": 5,
   "metadata": {},
   "outputs": [
    {
     "data": {
      "image/png": "[encoded data removed]",
      "text/plain": [
       "<Figure size 640x480 with 1 Axes>"
      ]
     },
     "metadata": {},
     "output_type": "display_data"
    }
   ],
   "source": [
    "plt.scatter(X_train, y_train, s=6, color=\"steelblue\", label=\"training data\")\n",
    "plt.scatter(X_test, y_test, s=6, color=\"red\", label=\"test data\")\n",
    "plt.legend()\n",
    "plt.grid(True)\n",
    "plt.tight_layout()\n",
    "plt.show()"
   ]
  },
  {
   "cell_type": "code",
   "execution_count": 6,
   "metadata": {},
   "outputs": [],
   "source": [
    "# create the class\n",
    "class LinearRegressionv1(nn.Module):\n",
    "    def __init__(self):\n",
    "        super().__init__()\n",
    "        self.weights = nn.Parameter(torch.randn(1, dtype=torch.float), requires_grad=True)\n",
    "        self.bias = nn.Parameter(torch.randn(1, dtype=torch.float), requires_grad=True)\n",
    "\n",
    "    def forward(self, x: torch.Tensor) -> torch.Tensor:\n",
    "        return self.weights * x + self.bias"
   ]
  },
  {
   "cell_type": "code",
   "execution_count": 7,
   "metadata": {},
   "outputs": [],
   "source": [
    "class LinearRegressionModel(nn.Module): # <- almost everything in PyTorch is a nn.Module (think of this as neural network lego blocks)\n",
    "    def __init__(self):\n",
    "        super().__init__() \n",
    "        self.weights = nn.Parameter(torch.randn(1, # <- start with random weights (this will get adjusted as the model learns)\n",
    "                                                dtype=torch.float), # <- PyTorch loves float32 by default\n",
    "                                   requires_grad=True) # <- can we update this value with gradient descent?)\n",
    "\n",
    "        self.bias = nn.Parameter(torch.randn(1, # <- start with random bias (this will get adjusted as the model learns)\n",
    "                                            dtype=torch.float), # <- PyTorch loves float32 by default\n",
    "                                requires_grad=True) # <- can we update this value with gradient descent?))\n",
    "\n",
    "    # Forward defines the computation in the model\n",
    "    def forward(self, x: torch.Tensor) -> torch.Tensor: # <- \"x\" is the input data (e.g. training/testing features)\n",
    "        return self.weights * x + self.bias # <- this is the linear regression formula (y = m*x + b)"
   ]
  },
  {
   "cell_type": "code",
   "execution_count": 8,
   "metadata": {},
   "outputs": [
    {
     "name": "stdout",
     "output_type": "stream",
     "text": [
      "OrderedDict([('weights', tensor([0.3367])), ('bias', tensor([0.1288]))])\n"
     ]
    }
   ],
   "source": [
    "torch.manual_seed(SEED)\n",
    "model_linear = LinearRegressionv1()\n",
    "# model_linear = LinearRegressionModel()\n",
    "print(model_linear.state_dict())"
   ]
  },
  {
   "cell_type": "code",
   "execution_count": 9,
   "metadata": {},
   "outputs": [
    {
     "data": {
      "text/plain": [
       "[Parameter containing:\n",
       " tensor([0.3367], requires_grad=True),\n",
       " Parameter containing:\n",
       " tensor([0.1288], requires_grad=True)]"
      ]
     },
     "execution_count": 9,
     "metadata": {},
     "output_type": "execute_result"
    }
   ],
   "source": [
    "list(model_linear.parameters())"
   ]
  },
  {
   "cell_type": "code",
   "execution_count": 10,
   "metadata": {},
   "outputs": [
    {
     "data": {
      "text/plain": [
       "'cuda'"
      ]
     },
     "execution_count": 10,
     "metadata": {},
     "output_type": "execute_result"
    }
   ],
   "source": [
    "device = \"cuda\" if torch.cuda.is_available() else \"cpu\"\n",
    "device"
   ]
  },
  {
   "cell_type": "code",
   "execution_count": 11,
   "metadata": {},
   "outputs": [],
   "source": [
    "model_linear = model_linear.to(device)\n",
    "X_train = X_train.to(device)\n",
    "y_train = y_train.to(device)\n",
    "X_test = X_test.to(device)\n",
    "y_test = y_test.to(device)"
   ]
  },
  {
   "cell_type": "code",
   "execution_count": 12,
   "metadata": {},
   "outputs": [],
   "source": [
    "loss_fun = nn.L1Loss()\n",
    "optimizer = torch.optim.SGD(params=model_linear.parameters(), lr=0.001)"
   ]
  },
  {
   "cell_type": "code",
   "execution_count": 13,
   "metadata": {},
   "outputs": [
    {
     "name": "stdout",
     "output_type": "stream",
     "text": [
      "Epoch 0 | MAE Train loss: 0.31288135051727295 | MAE Test loss: 0.4931890666484833\n",
      "Epoch 20 | MAE Train loss: 0.28983935713768005 | MAE Test loss: 0.4662471413612366\n",
      "Epoch 40 | MAE Train loss: 0.26679736375808716 | MAE Test loss: 0.43930521607398987\n",
      "Epoch 60 | MAE Train loss: 0.24375538527965546 | MAE Test loss: 0.41236335039138794\n",
      "Epoch 80 | MAE Train loss: 0.22071340680122375 | MAE Test loss: 0.38542142510414124\n",
      "Epoch 100 | MAE Train loss: 0.19767141342163086 | MAE Test loss: 0.35847947001457214\n",
      "Epoch 120 | MAE Train loss: 0.17462943494319916 | MAE Test loss: 0.3315375745296478\n",
      "Epoch 140 | MAE Train loss: 0.15158772468566895 | MAE Test loss: 0.304595947265625\n",
      "Epoch 160 | MAE Train loss: 0.12854604423046112 | MAE Test loss: 0.2776543200016022\n",
      "Epoch 180 | MAE Train loss: 0.10654275864362717 | MAE Test loss: 0.251315176486969\n",
      "Epoch 200 | MAE Train loss: 0.08973254263401031 | MAE Test loss: 0.22795839607715607\n",
      "Epoch 220 | MAE Train loss: 0.07729282230138779 | MAE Test loss: 0.20750825107097626\n",
      "Epoch 240 | MAE Train loss: 0.06828799843788147 | MAE Test loss: 0.18992407619953156\n",
      "Epoch 260 | MAE Train loss: 0.061741333454847336 | MAE Test loss: 0.17478716373443604\n",
      "Epoch 280 | MAE Train loss: 0.0569603331387043 | MAE Test loss: 0.161748006939888\n",
      "Epoch 300 | MAE Train loss: 0.05357731133699417 | MAE Test loss: 0.15086300671100616\n",
      "Epoch 320 | MAE Train loss: 0.05105169489979744 | MAE Test loss: 0.1415499746799469\n",
      "Epoch 340 | MAE Train loss: 0.049160152673721313 | MAE Test loss: 0.13370750844478607\n",
      "Epoch 360 | MAE Train loss: 0.04769856482744217 | MAE Test loss: 0.12709848582744598\n",
      "Epoch 380 | MAE Train loss: 0.04650093615055084 | MAE Test loss: 0.12147434055805206\n",
      "Epoch 400 | MAE Train loss: 0.04549176245927811 | MAE Test loss: 0.1165761947631836\n",
      "Epoch 420 | MAE Train loss: 0.04461454600095749 | MAE Test loss: 0.11254780739545822\n",
      "Epoch 440 | MAE Train loss: 0.043814532458782196 | MAE Test loss: 0.10898774117231369\n",
      "Epoch 460 | MAE Train loss: 0.043014515191316605 | MAE Test loss: 0.10542767494916916\n",
      "Epoch 480 | MAE Train loss: 0.04230218753218651 | MAE Test loss: 0.1030881330370903\n",
      "Epoch 500 | MAE Train loss: 0.04160415753722191 | MAE Test loss: 0.10088419169187546\n",
      "Epoch 520 | MAE Train loss: 0.04090612754225731 | MAE Test loss: 0.09868025034666061\n",
      "Epoch 540 | MAE Train loss: 0.04020809754729271 | MAE Test loss: 0.09647630900144577\n",
      "Epoch 560 | MAE Train loss: 0.03951007127761841 | MAE Test loss: 0.09427239745855331\n",
      "Epoch 580 | MAE Train loss: 0.03881204128265381 | MAE Test loss: 0.09206845611333847\n",
      "Epoch 600 | MAE Train loss: 0.03811401128768921 | MAE Test loss: 0.08986451476812363\n",
      "Epoch 620 | MAE Train loss: 0.03741598129272461 | MAE Test loss: 0.08766057342290878\n",
      "Epoch 640 | MAE Train loss: 0.03672432526946068 | MAE Test loss: 0.08579986542463303\n",
      "Epoch 660 | MAE Train loss: 0.036036938428878784 | MAE Test loss: 0.08421381562948227\n",
      "Epoch 680 | MAE Train loss: 0.035350002348423004 | MAE Test loss: 0.08255907148122787\n",
      "Epoch 700 | MAE Train loss: 0.03466346859931946 | MAE Test loss: 0.08097299933433533\n",
      "Epoch 720 | MAE Train loss: 0.03397642448544502 | MAE Test loss: 0.07938691228628159\n",
      "Epoch 740 | MAE Train loss: 0.03328912332653999 | MAE Test loss: 0.07773219794034958\n",
      "Epoch 760 | MAE Train loss: 0.032602597028017044 | MAE Test loss: 0.07614611834287643\n",
      "Epoch 780 | MAE Train loss: 0.031915903091430664 | MAE Test loss: 0.07456003874540329\n",
      "Epoch 800 | MAE Train loss: 0.03122851252555847 | MAE Test loss: 0.07297395914793015\n",
      "Epoch 820 | MAE Train loss: 0.030541718006134033 | MAE Test loss: 0.07131922990083694\n",
      "Epoch 840 | MAE Train loss: 0.029855189844965935 | MAE Test loss: 0.0697331428527832\n",
      "Epoch 860 | MAE Train loss: 0.02916799858212471 | MAE Test loss: 0.06814707070589066\n",
      "Epoch 880 | MAE Train loss: 0.028480852022767067 | MAE Test loss: 0.06649234890937805\n",
      "Epoch 900 | MAE Train loss: 0.027794325724244118 | MAE Test loss: 0.06490626186132431\n",
      "Epoch 920 | MAE Train loss: 0.0271074827760458 | MAE Test loss: 0.06332017481327057\n",
      "Epoch 940 | MAE Train loss: 0.02642008662223816 | MAE Test loss: 0.06173409894108772\n",
      "Epoch 960 | MAE Train loss: 0.025733446702361107 | MAE Test loss: 0.06007937341928482\n",
      "Epoch 980 | MAE Train loss: 0.02504691295325756 | MAE Test loss: 0.058493297547101974\n",
      "Epoch 1000 | MAE Train loss: 0.0243595689535141 | MAE Test loss: 0.05690721794962883\n",
      "Epoch 1020 | MAE Train loss: 0.02367258258163929 | MAE Test loss: 0.055252473801374435\n",
      "Epoch 1040 | MAE Train loss: 0.022986043244600296 | MAE Test loss: 0.05366641283035278\n",
      "Epoch 1060 | MAE Train loss: 0.022299055010080338 | MAE Test loss: 0.05208033323287964\n",
      "Epoch 1080 | MAE Train loss: 0.021611705422401428 | MAE Test loss: 0.05042559653520584\n",
      "Epoch 1100 | MAE Train loss: 0.02092517353594303 | MAE Test loss: 0.0488395169377327\n",
      "Epoch 1120 | MAE Train loss: 0.020238537341356277 | MAE Test loss: 0.047253455966711044\n",
      "Epoch 1140 | MAE Train loss: 0.019551148638129234 | MAE Test loss: 0.0456673689186573\n",
      "Epoch 1160 | MAE Train loss: 0.018864301964640617 | MAE Test loss: 0.044012635946273804\n",
      "Epoch 1180 | MAE Train loss: 0.01817776821553707 | MAE Test loss: 0.04242655634880066\n",
      "Epoch 1200 | MAE Train loss: 0.017490629106760025 | MAE Test loss: 0.04084048420190811\n",
      "Epoch 1220 | MAE Train loss: 0.016803430393338203 | MAE Test loss: 0.03918575122952461\n",
      "Epoch 1240 | MAE Train loss: 0.016116900369524956 | MAE Test loss: 0.03759966418147087\n",
      "Epoch 1260 | MAE Train loss: 0.01543011236935854 | MAE Test loss: 0.03601359948515892\n",
      "Epoch 1280 | MAE Train loss: 0.014742719009518623 | MAE Test loss: 0.03442750498652458\n",
      "Epoch 1300 | MAE Train loss: 0.014056024141609669 | MAE Test loss: 0.03277278691530228\n",
      "Epoch 1320 | MAE Train loss: 0.013369492255151272 | MAE Test loss: 0.031186699867248535\n",
      "Epoch 1340 | MAE Train loss: 0.012682202272117138 | MAE Test loss: 0.029600614681839943\n",
      "Epoch 1360 | MAE Train loss: 0.011995161883533001 | MAE Test loss: 0.02794589474797249\n",
      "Epoch 1380 | MAE Train loss: 0.011308628134429455 | MAE Test loss: 0.026359815150499344\n",
      "Epoch 1400 | MAE Train loss: 0.010621682740747929 | MAE Test loss: 0.0247737355530262\n",
      "Epoch 1420 | MAE Train loss: 0.009934291243553162 | MAE Test loss: 0.023187650367617607\n",
      "Epoch 1440 | MAE Train loss: 0.00924774818122387 | MAE Test loss: 0.021532922983169556\n",
      "Epoch 1460 | MAE Train loss: 0.008561169728636742 | MAE Test loss: 0.019946856424212456\n",
      "Epoch 1480 | MAE Train loss: 0.007873778231441975 | MAE Test loss: 0.018360769376158714\n",
      "Epoch 1500 | MAE Train loss: 0.007186878472566605 | MAE Test loss: 0.01670604944229126\n",
      "Epoch 1520 | MAE Train loss: 0.006500349845737219 | MAE Test loss: 0.015119964256882668\n",
      "Epoch 1540 | MAE Train loss: 0.005813261028379202 | MAE Test loss: 0.013533896766602993\n",
      "Epoch 1560 | MAE Train loss: 0.005126010160893202 | MAE Test loss: 0.011879158206284046\n",
      "Epoch 1580 | MAE Train loss: 0.004439301788806915 | MAE Test loss: 0.010327416472136974\n",
      "Epoch 1600 | MAE Train loss: 0.003752306802198291 | MAE Test loss: 0.008672690950334072\n",
      "Epoch 1620 | MAE Train loss: 0.0030657730530947447 | MAE Test loss: 0.007086604833602905\n",
      "Epoch 1640 | MAE Train loss: 0.0023787864483892918 | MAE Test loss: 0.005500525236129761\n",
      "Epoch 1660 | MAE Train loss: 0.0016914367442950606 | MAE Test loss: 0.0038457990158349276\n",
      "Epoch 1680 | MAE Train loss: 0.0010049015982076526 | MAE Test loss: 0.002259713364765048\n"
     ]
    }
   ],
   "source": [
    "epochs = 1700\n",
    "loss_train_values = []\n",
    "loss_test_values = []\n",
    "y_pred_test_values = []\n",
    "\n",
    "for epoch in range(epochs):\n",
    "    # train\n",
    "    model_linear.train()\n",
    "    y_pred_train = model_linear(X_train)\n",
    "    loss_train = loss_fun(y_pred_train, y_train)\n",
    "    optimizer.zero_grad()\n",
    "    loss_train.backward()\n",
    "    optimizer.step()\n",
    "\n",
    "    # test\n",
    "    model_linear.eval()\n",
    "    with torch.inference_mode():\n",
    "        y_pred_test = (model_linear(X_test))\n",
    "        loss_test = loss_fun(y_pred_test, y_test)\n",
    "        loss_test_values.append(loss_test.cpu().detach().numpy())\n",
    "        loss_train_values.append(loss_train.cpu().detach().numpy())\n",
    "        y_pred_test_values.append(y_pred_test)\n",
    "\n",
    "        if epoch % 20 == 0:\n",
    "            print(f\"Epoch {epoch} | MAE Train loss: {loss_train} | MAE Test loss: {loss_test}\")"
   ]
  },
  {
   "cell_type": "code",
   "execution_count": 14,
   "metadata": {},
   "outputs": [],
   "source": [
    "with torch.inference_mode():\n",
    "    y_pred_test_values = model_linear(X_test)"
   ]
  },
  {
   "cell_type": "code",
   "execution_count": 15,
   "metadata": {},
   "outputs": [
    {
     "data": {
      "text/plain": [
       "OrderedDict([('weights', tensor([0.6984], device='cuda:0')),\n",
       "             ('bias', tensor([0.3007], device='cuda:0'))])"
      ]
     },
     "execution_count": 15,
     "metadata": {},
     "output_type": "execute_result"
    }
   ],
   "source": [
    "model_linear.state_dict()"
   ]
  },
  {
   "cell_type": "code",
   "execution_count": 16,
   "metadata": {},
   "outputs": [
    {
     "data": {
      "image/png": "[encoded data removed]",
      "text/plain": [
       "<Figure size 640x480 with 1 Axes>"
      ]
     },
     "metadata": {},
     "output_type": "display_data"
    }
   ],
   "source": [
    "plt.scatter(X_train.cpu(), y_train.cpu(), s=6, color=\"steelblue\", label=\"training data\")\n",
    "plt.scatter(X_test.cpu(), y_test.cpu(), s=6, color=\"red\", label=\"test actual\")\n",
    "plt.scatter(X_test.cpu(), y_pred_test_values.cpu().flatten() , s=2, color=\"green\", label=\"test prediction\")\n",
    "plt.legend()\n",
    "plt.grid(True)\n",
    "plt.tight_layout()\n",
    "plt.show()"
   ]
  },
  {
   "cell_type": "code",
   "execution_count": 17,
   "metadata": {},
   "outputs": [
    {
     "data": {
      "text/plain": [
       "Text(0, 0.5, 'MAE')"
      ]
     },
     "execution_count": 17,
     "metadata": {},
     "output_type": "execute_result"
    },
    {
     "data": {
      "image/png": "[encoded data removed]",
      "text/plain": [
       "<Figure size 800x500 with 1 Axes>"
      ]
     },
     "metadata": {},
     "output_type": "display_data"
    }
   ],
   "source": [
    "fig, ax = plt.subplots(figsize=(8, 5))\n",
    "\n",
    "ax.plot(loss_train_values, label=\"train loss\")\n",
    "ax.plot(loss_test_values, label=\"test loss\")\n",
    "ax.legend()\n",
    "ax.grid(True)\n",
    "ax.set_title(\"Loss\")\n",
    "ax.set_xlabel(\"Epochs\")\n",
    "ax.set_ylabel(\"MAE\")"
   ]
  },
  {
   "cell_type": "code",
   "execution_count": 18,
   "metadata": {},
   "outputs": [
    {
     "data": {
      "text/plain": [
       "[Parameter containing:\n",
       " tensor([0.6984], device='cuda:0', requires_grad=True),\n",
       " Parameter containing:\n",
       " tensor([0.3007], device='cuda:0', requires_grad=True)]"
      ]
     },
     "execution_count": 18,
     "metadata": {},
     "output_type": "execute_result"
    }
   ],
   "source": [
    "list(model_linear.parameters())"
   ]
  },
  {
   "cell_type": "code",
   "execution_count": null,
   "metadata": {},
   "outputs": [],
   "source": []
  }
 ],
 "metadata": {
  "kernelspec": {
   "display_name": "Python 3",
   "language": "python",
   "name": "python3"
  },
  "language_info": {
   "codemirror_mode": {
    "name": "ipython",
    "version": 3
   },
   "file_extension": ".py",
   "mimetype": "text/x-python",
   "name": "python",
   "nbconvert_exporter": "python",
   "pygments_lexer": "ipython3",
   "version": "3.9.16"
  }
 },
 "nbformat": 4,
 "nbformat_minor": 2
}
