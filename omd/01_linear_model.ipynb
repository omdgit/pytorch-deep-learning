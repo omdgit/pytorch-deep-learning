{
 "cells": [
  {
   "cell_type": "markdown",
   "metadata": {},
   "source": [
    "1. Create a straight line dataset using the linear regression formula (`weight * X + bias`).\n",
    "  * Set `weight=0.3` and `bias=0.9` there should be at least 100 datapoints total. \n",
    "  * Split the data into 80% training, 20% testing.\n",
    "  * Plot the training and testing data so it becomes visual."
   ]
  },
  {
   "cell_type": "code",
   "execution_count": 1,
   "metadata": {},
   "outputs": [
    {
     "name": "stdout",
     "output_type": "stream",
     "text": [
      "Intel MKL WARNING: Support of Intel(R) Streaming SIMD Extensions 4.2 (Intel(R) SSE4.2) enabled only processors has been deprecated. Intel oneAPI Math Kernel Library 2025.0 will require Intel(R) Advanced Vector Extensions (Intel(R) AVX) instructions.\n",
      "Intel MKL WARNING: Support of Intel(R) Streaming SIMD Extensions 4.2 (Intel(R) SSE4.2) enabled only processors has been deprecated. Intel oneAPI Math Kernel Library 2025.0 will require Intel(R) Advanced Vector Extensions (Intel(R) AVX) instructions.\n"
     ]
    }
   ],
   "source": [
    "import torch\n",
    "from torch import nn\n",
    "from matplotlib import pyplot as plt \n",
    "import warnings\n",
    "\n",
    "warnings.simplefilter('ignore')"
   ]
  },
  {
   "cell_type": "code",
   "execution_count": 2,
   "metadata": {},
   "outputs": [],
   "source": [
    "SEED = 42 "
   ]
  },
  {
   "cell_type": "code",
   "execution_count": 3,
   "metadata": {},
   "outputs": [
    {
     "data": {
      "text/plain": [
       "(80, 80, 20, 20)"
      ]
     },
     "execution_count": 3,
     "metadata": {},
     "output_type": "execute_result"
    }
   ],
   "source": [
    "# 1\n",
    "weight = 0.3\n",
    "bias = 0.9\n",
    "X = torch.arange(0, 100)\n",
    "y = weight*X + bias\n",
    "train_split = int(0.8 * len(X))\n",
    "X_train, y_train, X_test, y_test = X[:train_split], y[:train_split], X[train_split:], y[train_split:]\n",
    "len(X_train), len(y_train), len(X_test), len(y_test)"
   ]
  },
  {
   "cell_type": "code",
   "execution_count": 4,
   "metadata": {},
   "outputs": [
    {
     "data": {
      "image/png": "[encoded data removed]",
      "text/plain": [
       "<Figure size 800x550 with 1 Axes>"
      ]
     },
     "metadata": {},
     "output_type": "display_data"
    }
   ],
   "source": [
    "plt.style.use('seaborn')\n",
    "plt.scatter(X_train, y_train, s=6, color=\"steelblue\", label=\"train\")\n",
    "plt.scatter(X_test, y_test, s=6, color=\"orange\", label=\"test\")\n",
    "plt.legend()\n",
    "plt.tight_layout()\n",
    "plt.show();"
   ]
  },
  {
   "cell_type": "markdown",
   "metadata": {},
   "source": [
    "2. Build a PyTorch model by subclassing `nn.Module`. \n",
    "  * Inside should be a randomly initialized `nn.Parameter()` with `requires_grad=True`, one for `weights` and one for `bias`. \n",
    "  * Implement the `forward()` method to compute the linear regression function you used to create the dataset in 1. \n",
    "  * Once you've constructed the model, make an instance of it and check its `state_dict()`.\n",
    "  * **Note:** If you'd like to use `nn.Linear()` instead of `nn.Parameter()` you can."
   ]
  },
  {
   "cell_type": "code",
   "execution_count": 5,
   "metadata": {},
   "outputs": [],
   "source": [
    "# 2\n",
    "class LinearRegression(nn.Module):\n",
    "    def __init__(self):\n",
    "        super().__init__()\n",
    "        self.weights = nn.Parameter(torch.randn(1, dtype=torch.float), requires_grad=True) \n",
    "        self.bias = nn.Parameter(torch.randn(1, dtype=torch.float), requires_grad=True) \n",
    "\n",
    "    def forward(self, x: torch.Tensor) -> torch.Tensor: \n",
    "        return self.weights * x + self.bias\n"
   ]
  },
  {
   "cell_type": "code",
   "execution_count": 6,
   "metadata": {},
   "outputs": [],
   "source": [
    "# class LinearRegressionModel(nn.Module): \n",
    "#     def __init__(self):\n",
    "#         super().__init__() \n",
    "#         self.weights = nn.Parameter(torch.randn(1, dtype=torch.float), requires_grad=True) \n",
    "#         self.bias = nn.Parameter(torch.randn(1, dtype=torch.float), requires_grad=True) \n",
    "\n",
    "#     def forward(self, x: torch.Tensor) -> torch.Tensor: \n",
    "#         return self.weights * x + self.bias"
   ]
  },
  {
   "cell_type": "code",
   "execution_count": 7,
   "metadata": {},
   "outputs": [
    {
     "data": {
      "text/plain": [
       "OrderedDict([('weights', tensor([0.3367])), ('bias', tensor([0.1288]))])"
      ]
     },
     "execution_count": 7,
     "metadata": {},
     "output_type": "execute_result"
    }
   ],
   "source": [
    "torch.manual_seed(SEED)\n",
    "model_linear = LinearRegression()\n",
    "model_linear.state_dict()"
   ]
  },
  {
   "cell_type": "code",
   "execution_count": 8,
   "metadata": {},
   "outputs": [],
   "source": [
    "device = \"cuda\" if torch.cuda.is_available() else \"cpu\"\n",
    "model_linear.to(device)\n",
    "next(model_linear.parameters()).to(device)\n",
    "\n",
    "X_train = X_train.to(device)\n",
    "y_train = y_train.to(device)\n",
    "X_test = X_test.to(device)\n",
    "y_test = y_test.to(device)"
   ]
  },
  {
   "cell_type": "markdown",
   "metadata": {},
   "source": [
    "3. Create a loss function and optimizer using `nn.L1Loss()` and `torch.optim.SGD(params, lr)` respectively. \n",
    "  * Set the learning rate of the optimizer to be 0.01 and the parameters to optimize should be the model parameters from the model you created in 2.\n",
    "  * Write a training loop to perform the appropriate training steps for 300 epochs.\n",
    "  * The training loop should test the model on the test dataset every 20 epochs."
   ]
  },
  {
   "cell_type": "code",
   "execution_count": 9,
   "metadata": {},
   "outputs": [],
   "source": [
    "# 3\n",
    "loss_fn = nn.L1Loss()\n",
    "optimizer = torch.optim.SGD(params=model_linear.parameters(), lr=0.01)"
   ]
  },
  {
   "cell_type": "code",
   "execution_count": 10,
   "metadata": {},
   "outputs": [
    {
     "name": "stdout",
     "output_type": "stream",
     "text": [
      " Epoch: 0 | MAE Train loss: 0.8903464078903198 | MAE Test loss: 27.6757755279541\n",
      " Epoch: 20 | MAE Train loss: 4.886396884918213 | MAE Test loss: 23.13906478881836\n",
      " Epoch: 40 | MAE Train loss: 6.025297164916992 | MAE Test loss: 20.664871215820312\n",
      " Epoch: 60 | MAE Train loss: 6.8605499267578125 | MAE Test loss: 18.863656997680664\n",
      " Epoch: 80 | MAE Train loss: 7.459794521331787 | MAE Test loss: 17.511171340942383\n",
      " Epoch: 100 | MAE Train loss: 8.059048652648926 | MAE Test loss: 16.15866470336914\n",
      " Epoch: 120 | MAE Train loss: 8.599006652832031 | MAE Test loss: 15.008291244506836\n",
      " Epoch: 140 | MAE Train loss: 8.901609420776367 | MAE Test loss: 14.329591751098633\n",
      " Epoch: 160 | MAE Train loss: 9.204214096069336 | MAE Test loss: 13.650891304016113\n",
      " Epoch: 180 | MAE Train loss: 9.506816864013672 | MAE Test loss: 12.972187995910645\n",
      " Epoch: 200 | MAE Train loss: 9.809420585632324 | MAE Test loss: 12.293486595153809\n",
      " Epoch: 220 | MAE Train loss: 10.112024307250977 | MAE Test loss: 11.614785194396973\n",
      " Epoch: 240 | MAE Train loss: 10.414628982543945 | MAE Test loss: 10.936083793640137\n",
      " Epoch: 260 | MAE Train loss: 10.717231750488281 | MAE Test loss: 10.2573823928833\n",
      " Epoch: 280 | MAE Train loss: 11.01983642578125 | MAE Test loss: 9.578680038452148\n"
     ]
    }
   ],
   "source": [
    "epochs = 300\n",
    "loss_train_values = []\n",
    "loss_test_values = []\n",
    "\n",
    "for epoch in range(epochs):\n",
    "    # train\n",
    "    model_linear.train()\n",
    "    y_pred_train = model_linear(X_train)\n",
    "    loss_train = loss_fn(y_pred_train, y_train)\n",
    "    optimizer.zero_grad()\n",
    "    loss_train.backward()\n",
    "    optimizer.step()\n",
    "    loss_train_values.append(loss_train.detach().numpy())\n",
    "\n",
    "    # evaluate\n",
    "    model_linear.eval()\n",
    "    with torch.inference_mode():\n",
    "        y_pred_test = model_linear(X_test)\n",
    "        loss_test = loss_fn(y_pred_test, y_test.type(torch.float))\n",
    "        loss_test_values.append(loss_test.detach().numpy())\n",
    "        if epoch % 20 == 0:\n",
    "            print(f\" Epoch: {epoch} | MAE Train loss: {loss_train} | MAE Test loss: {loss_test}\")    \n",
    "\n",
    "        # if epoch % 10 == 0:\n",
    "        #         epoch_count.append(epoch)\n",
    "        #         train_loss_values.append(loss.detach().numpy())\n",
    "        #         test_loss_values.append(test_loss.detach().numpy())\n",
    "        #         print(f\"Epoch: {epoch} | MAE Train Loss: {loss} | MAE Test Loss: {test_loss} \")"
   ]
  },
  {
   "cell_type": "markdown",
   "metadata": {},
   "source": [
    "4. Make predictions with the trained model on the test data.\n",
    "  * Visualize these predictions against the original training and testing data (**note:** you may need to make sure the predictions are *not* on the GPU if you want to use non-CUDA-enabled libraries such as matplotlib to plot)."
   ]
  },
  {
   "cell_type": "code",
   "execution_count": 41,
   "metadata": {},
   "outputs": [
    {
     "data": {
      "text/plain": [
       "3"
      ]
     },
     "execution_count": 41,
     "metadata": {},
     "output_type": "execute_result"
    }
   ],
   "source": []
  },
  {
   "cell_type": "markdown",
   "metadata": {},
   "source": [
    "5. Save your trained model's `state_dict()` to file.\n",
    "  * Create a new instance of your model class you made in 2. and load in the `state_dict()` you just saved to it.\n",
    "  * Perform predictions on your test data with the loaded model and confirm they match the original model predictions from 4."
   ]
  },
  {
   "cell_type": "code",
   "execution_count": 40,
   "metadata": {},
   "outputs": [
    {
     "data": {
      "text/plain": [
       "3"
      ]
     },
     "execution_count": 40,
     "metadata": {},
     "output_type": "execute_result"
    }
   ],
   "source": []
  },
  {
   "cell_type": "code",
   "execution_count": null,
   "metadata": {},
   "outputs": [],
   "source": []
  }
 ],
 "metadata": {
  "kernelspec": {
   "display_name": "ml2023",
   "language": "python",
   "name": "python3"
  },
  "language_info": {
   "codemirror_mode": {
    "name": "ipython",
    "version": 3
   },
   "file_extension": ".py",
   "mimetype": "text/x-python",
   "name": "python",
   "nbconvert_exporter": "python",
   "pygments_lexer": "ipython3",
   "version": "3.8.5"
  }
 },
 "nbformat": 4,
 "nbformat_minor": 2
}
